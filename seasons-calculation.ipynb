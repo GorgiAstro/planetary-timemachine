{
 "cells": [
  {
   "cell_type": "markdown",
   "metadata": {},
   "source": [
    "# Description"
   ]
  },
  {
   "cell_type": "markdown",
   "metadata": {},
   "source": [
    "This notebook computes the dates of the equinox on solar system planets using the Orekit Python wrapper.\n",
    "\n",
    "The seasons are computed by calculating the angle between the Sun vector and the North pole of the planet."
   ]
  },
  {
   "cell_type": "markdown",
   "metadata": {},
   "source": [
    "# Calculations "
   ]
  },
  {
   "cell_type": "markdown",
   "metadata": {},
   "source": [
    "The date range for the equinox search must be specified. Be careful of making sure that at least one equinox occurs within this date range."
   ]
  },
  {
   "cell_type": "code",
   "execution_count": 1,
   "metadata": {},
   "outputs": [],
   "source": [
    "from datetime import datetime\n",
    "date_start = datetime(2020, 1, 1)  # Start of search range\n",
    "date_end = datetime(2025, 1, 1)  # End of search range\n",
    "dt = 86400.0  # Time step for the equinox search\n",
    "\n",
    "planets_list = [\n",
    "    'MERCURY',\n",
    "    'VENUS',\n",
    "    'EARTH',\n",
    "    'MARS',\n",
    "    'JUPITER',\n",
    "    'SATURN',\n",
    "    'URANUS',\n",
    "    'NEPTUNE'\n",
    "]\n",
    "\n",
    "planet_name = 'MARS'\n",
    "\n",
    "if planet_name not in planets_list:\n",
    "    print(f'Error: {planet_name} not a valid planet name')"
   ]
  },
  {
   "cell_type": "code",
   "execution_count": 2,
   "metadata": {},
   "outputs": [],
   "source": [
    "import orekit\n",
    "orekit.initVM()\n",
    "\n",
    "# Modified from https://gitlab.orekit.org/orekit-labs/python-wrapper/blob/master/python_files/pyhelpers.py\n",
    "from java.io import File\n",
    "from org.orekit.data import DataProvidersManager, DirectoryCrawler\n",
    "from orekit import JArray\n",
    "\n",
    "orekit_data_dir = 'orekit-data'\n",
    "DM = DataProvidersManager.getInstance()\n",
    "datafile = File(orekit_data_dir)\n",
    "if not datafile.exists():\n",
    "    print('Directory :', datafile.absolutePath, ' not found')\n",
    "\n",
    "crawler = DirectoryCrawler(datafile)\n",
    "DM.clearProviders()\n",
    "DM.addProvider(crawler)"
   ]
  },
  {
   "cell_type": "code",
   "execution_count": 3,
   "metadata": {},
   "outputs": [],
   "source": [
    "from org.orekit.frames import FramesFactory\n",
    "from org.orekit.utils import IERSConventions \n",
    "ecliptic = FramesFactory.getEcliptic(IERSConventions.IERS_2010)\n",
    "\n",
    "from org.orekit.time import TimeScalesFactory\n",
    "utc = TimeScalesFactory.getUTC()\n",
    "\n",
    "from org.orekit.bodies import CelestialBodyFactory\n",
    "from org.orekit.utils import PVCoordinatesProvider\n",
    "planet = CelestialBodyFactory.getBody(planet_name)\n",
    "body_frame = planet.getBodyOrientedFrame()\n",
    "\n",
    "sun = CelestialBodyFactory.getSun()\n",
    "sun_pv_provider = PVCoordinatesProvider.cast_(sun)"
   ]
  },
  {
   "cell_type": "code",
   "execution_count": 4,
   "metadata": {},
   "outputs": [],
   "source": [
    "import math\n",
    "# Modified from https://gitlab.orekit.org/orekit-labs/python-wrapper/-/blob/943cae0fe44bedab78137c9fd1263267631e93f5/python_files/pyhelpers.py\n",
    "# To avoid an exception during a leap second\n",
    "def absolutedate_to_datetime_no_leap_seconds(orekit_absolutedate):\n",
    "    \"\"\" Converts from orekit.AbsoluteDate objects\n",
    "    to python datetime objects (utc)\"\"\"\n",
    "\n",
    "    utc = TimeScalesFactory.getUTC()\n",
    "    or_comp = orekit_absolutedate.getComponents(utc)\n",
    "    or_date = or_comp.getDate()\n",
    "    or_time = or_comp.getTime()\n",
    "    seconds = or_time.getSecond()\n",
    "    seconds_int = int(math.floor(seconds))\n",
    "    microseconds = int(1000000.0 * (seconds - math.floor(seconds)))\n",
    "    if seconds_int > 59:  # This can take the value 60 during a leap second\n",
    "        seconds_int = 59\n",
    "        microseconds = 999999  # Also modifying microseconds to ensure that the time flow stays monotonic\n",
    "\n",
    "    return datetime(or_date.getYear(),\n",
    "                    or_date.getMonth(),\n",
    "                    or_date.getDay(),\n",
    "                    or_time.getHour(),\n",
    "                    or_time.getMinute(),\n",
    "                    seconds_int,\n",
    "                    microseconds)"
   ]
  },
  {
   "cell_type": "code",
   "execution_count": 5,
   "metadata": {},
   "outputs": [],
   "source": [
    "from orekit.pyhelpers import datetime_to_absolutedate, absolutedate_to_datetime\n",
    "import pandas as pd\n",
    "import numpy as np\n",
    "\n",
    "from org.hipparchus.geometry.euclidean.threed import Vector3D \n",
    "planet_pole = Vector3D.PLUS_K\n",
    "\n",
    "df = pd.DataFrame(columns=['pole_sun_angle_deg'])\n",
    "df.index.name = 'datetime_utc'\n",
    "\n",
    "date_current = datetime_to_absolutedate(date_start)\n",
    "date_end_orekit = datetime_to_absolutedate(date_end)\n",
    "\n",
    "while date_current.compareTo(date_end_orekit) <= 0:\n",
    "    sun_position_bf = sun_pv_provider.getPVCoordinates(date_current, body_frame).getPosition()\n",
    "    sun_pole_angle = np.rad2deg(Vector3D.angle(sun_position_bf, planet_pole))\n",
    "    df.loc[absolutedate_to_datetime_no_leap_seconds(date_current)] = [sun_pole_angle]\n",
    "    date_current = date_current.shiftedBy(dt)"
   ]
  },
  {
   "cell_type": "code",
   "execution_count": 6,
   "metadata": {},
   "outputs": [
    {
     "name": "stdout",
     "output_type": "stream",
     "text": [
      "The spring equinoxes are:\n"
     ]
    },
    {
     "data": {
      "text/html": [
       "<div>\n",
       "<style scoped>\n",
       "    .dataframe tbody tr th:only-of-type {\n",
       "        vertical-align: middle;\n",
       "    }\n",
       "\n",
       "    .dataframe tbody tr th {\n",
       "        vertical-align: top;\n",
       "    }\n",
       "\n",
       "    .dataframe thead th {\n",
       "        text-align: right;\n",
       "    }\n",
       "</style>\n",
       "<table border=\"1\" class=\"dataframe\">\n",
       "  <thead>\n",
       "    <tr style=\"text-align: right;\">\n",
       "      <th></th>\n",
       "      <th>pole_sun_angle_deg</th>\n",
       "    </tr>\n",
       "    <tr>\n",
       "      <th>datetime_utc</th>\n",
       "      <th></th>\n",
       "    </tr>\n",
       "  </thead>\n",
       "  <tbody>\n",
       "    <tr>\n",
       "      <th>2021-02-07</th>\n",
       "      <td>90.097319</td>\n",
       "    </tr>\n",
       "    <tr>\n",
       "      <th>2022-12-26</th>\n",
       "      <td>90.089456</td>\n",
       "    </tr>\n",
       "    <tr>\n",
       "      <th>2024-11-12</th>\n",
       "      <td>90.084573</td>\n",
       "    </tr>\n",
       "  </tbody>\n",
       "</table>\n",
       "</div>"
      ],
      "text/plain": [
       "              pole_sun_angle_deg\n",
       "datetime_utc                    \n",
       "2021-02-07             90.097319\n",
       "2022-12-26             90.089456\n",
       "2024-11-12             90.084573"
      ]
     },
     "metadata": {},
     "output_type": "display_data"
    },
    {
     "name": "stdout",
     "output_type": "stream",
     "text": [
      "The summer solstices are:\n"
     ]
    },
    {
     "data": {
      "text/html": [
       "<div>\n",
       "<style scoped>\n",
       "    .dataframe tbody tr th:only-of-type {\n",
       "        vertical-align: middle;\n",
       "    }\n",
       "\n",
       "    .dataframe tbody tr th {\n",
       "        vertical-align: top;\n",
       "    }\n",
       "\n",
       "    .dataframe thead th {\n",
       "        text-align: right;\n",
       "    }\n",
       "</style>\n",
       "<table border=\"1\" class=\"dataframe\">\n",
       "  <thead>\n",
       "    <tr style=\"text-align: right;\">\n",
       "      <th></th>\n",
       "      <th>pole_sun_angle_deg</th>\n",
       "    </tr>\n",
       "    <tr>\n",
       "      <th>datetime_utc</th>\n",
       "      <th></th>\n",
       "    </tr>\n",
       "  </thead>\n",
       "  <tbody>\n",
       "    <tr>\n",
       "      <th>2021-08-25</th>\n",
       "      <td>64.805309</td>\n",
       "    </tr>\n",
       "    <tr>\n",
       "      <th>2023-07-13</th>\n",
       "      <td>64.805293</td>\n",
       "    </tr>\n",
       "  </tbody>\n",
       "</table>\n",
       "</div>"
      ],
      "text/plain": [
       "              pole_sun_angle_deg\n",
       "datetime_utc                    \n",
       "2021-08-25             64.805309\n",
       "2023-07-13             64.805293"
      ]
     },
     "metadata": {},
     "output_type": "display_data"
    },
    {
     "name": "stdout",
     "output_type": "stream",
     "text": [
      "The autumn equinoxes are:\n"
     ]
    },
    {
     "data": {
      "text/html": [
       "<div>\n",
       "<style scoped>\n",
       "    .dataframe tbody tr th:only-of-type {\n",
       "        vertical-align: middle;\n",
       "    }\n",
       "\n",
       "    .dataframe tbody tr th {\n",
       "        vertical-align: top;\n",
       "    }\n",
       "\n",
       "    .dataframe thead th {\n",
       "        text-align: right;\n",
       "    }\n",
       "</style>\n",
       "<table border=\"1\" class=\"dataframe\">\n",
       "  <thead>\n",
       "    <tr style=\"text-align: right;\">\n",
       "      <th></th>\n",
       "      <th>pole_sun_angle_deg</th>\n",
       "    </tr>\n",
       "    <tr>\n",
       "      <th>datetime_utc</th>\n",
       "      <th></th>\n",
       "    </tr>\n",
       "  </thead>\n",
       "  <tbody>\n",
       "    <tr>\n",
       "      <th>2020-04-09</th>\n",
       "      <td>90.098049</td>\n",
       "    </tr>\n",
       "    <tr>\n",
       "      <th>2022-02-25</th>\n",
       "      <td>90.102781</td>\n",
       "    </tr>\n",
       "    <tr>\n",
       "      <th>2024-01-13</th>\n",
       "      <td>90.117144</td>\n",
       "    </tr>\n",
       "  </tbody>\n",
       "</table>\n",
       "</div>"
      ],
      "text/plain": [
       "              pole_sun_angle_deg\n",
       "datetime_utc                    \n",
       "2020-04-09             90.098049\n",
       "2022-02-25             90.102781\n",
       "2024-01-13             90.117144"
      ]
     },
     "metadata": {},
     "output_type": "display_data"
    },
    {
     "name": "stdout",
     "output_type": "stream",
     "text": [
      "The winter solstices are:\n"
     ]
    },
    {
     "data": {
      "text/html": [
       "<div>\n",
       "<style scoped>\n",
       "    .dataframe tbody tr th:only-of-type {\n",
       "        vertical-align: middle;\n",
       "    }\n",
       "\n",
       "    .dataframe tbody tr th {\n",
       "        vertical-align: top;\n",
       "    }\n",
       "\n",
       "    .dataframe thead th {\n",
       "        text-align: right;\n",
       "    }\n",
       "</style>\n",
       "<table border=\"1\" class=\"dataframe\">\n",
       "  <thead>\n",
       "    <tr style=\"text-align: right;\">\n",
       "      <th></th>\n",
       "      <th>pole_sun_angle_deg</th>\n",
       "    </tr>\n",
       "    <tr>\n",
       "      <th>datetime_utc</th>\n",
       "      <th></th>\n",
       "    </tr>\n",
       "  </thead>\n",
       "  <tbody>\n",
       "    <tr>\n",
       "      <th>2020-09-02</th>\n",
       "      <td>115.194492</td>\n",
       "    </tr>\n",
       "    <tr>\n",
       "      <th>2022-07-21</th>\n",
       "      <td>115.194598</td>\n",
       "    </tr>\n",
       "    <tr>\n",
       "      <th>2024-06-07</th>\n",
       "      <td>115.194704</td>\n",
       "    </tr>\n",
       "  </tbody>\n",
       "</table>\n",
       "</div>"
      ],
      "text/plain": [
       "              pole_sun_angle_deg\n",
       "datetime_utc                    \n",
       "2020-09-02            115.194492\n",
       "2022-07-21            115.194598\n",
       "2024-06-07            115.194704"
      ]
     },
     "metadata": {},
     "output_type": "display_data"
    }
   ],
   "source": [
    "from scipy.signal import find_peaks\n",
    "i_equinoxes, _ = find_peaks(- abs(df['pole_sun_angle_deg'] - 90))\n",
    "i_spring_equinoxes = []\n",
    "i_autumn_equinoxes = []\n",
    "for i in i_equinoxes:\n",
    "    if i == 0:\n",
    "        diff = df['pole_sun_angle_deg'][1] - df['pole_sun_angle_deg'][0]\n",
    "    else:\n",
    "        diff = df['pole_sun_angle_deg'][i] - df['pole_sun_angle_deg'][i-1]\n",
    "        \n",
    "    if diff < 0.0:\n",
    "        i_spring_equinoxes.append(i)\n",
    "    else:\n",
    "        i_autumn_equinoxes.append(i)\n",
    "\n",
    "print('The spring equinoxes are:')\n",
    "display(df.iloc[i_spring_equinoxes])\n",
    "\n",
    "i_summer_solstices, _ = find_peaks(- df['pole_sun_angle_deg'])\n",
    "print('The summer solstices are:')\n",
    "display(df.iloc[i_summer_solstices])\n",
    "\n",
    "print('The autumn equinoxes are:')\n",
    "display(df.iloc[i_autumn_equinoxes])\n",
    "\n",
    "i_winter_solstices, _ = find_peaks(df['pole_sun_angle_deg'])\n",
    "print('The winter solstices are:')\n",
    "display(df.iloc[i_winter_solstices])"
   ]
  },
  {
   "cell_type": "code",
   "execution_count": null,
   "metadata": {},
   "outputs": [],
   "source": []
  }
 ],
 "metadata": {
  "kernelspec": {
   "display_name": "Python 3",
   "language": "python",
   "name": "python3"
  },
  "language_info": {
   "codemirror_mode": {
    "name": "ipython",
    "version": 3
   },
   "file_extension": ".py",
   "mimetype": "text/x-python",
   "name": "python",
   "nbconvert_exporter": "python",
   "pygments_lexer": "ipython3",
   "version": "3.7.6"
  }
 },
 "nbformat": 4,
 "nbformat_minor": 4
}
